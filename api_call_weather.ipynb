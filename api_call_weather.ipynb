{
 "cells": [
  {
   "cell_type": "code",
   "execution_count": 1,
   "id": "04d79cda-5485-4585-a86e-34b23ede4ae0",
   "metadata": {},
   "outputs": [],
   "source": [
    "# Dependencies\n",
    "import pandas as pd\n",
    "import json\n",
    "import requests\n",
    "from config import api_key_weather\n",
    "from config import api_key_visualcrossing\n",
    "from datetime import datetime"
   ]
  },
  {
   "cell_type": "markdown",
   "id": "b9b57601-526f-4ecd-b3e1-8891bb7f9e7e",
   "metadata": {},
   "source": [
    "# This section is to do the API call to determine weather data for each city by year"
   ]
  },
  {
   "cell_type": "code",
   "execution_count": 38,
   "id": "3e7618a2-148d-49d7-92ca-8f02c86658ea",
   "metadata": {},
   "outputs": [],
   "source": [
    "# Loop to get values from VisualWeather API\n",
    "years = [2010, 2011, 2012, 2013, 2014, 2015, 2016, 2017, 2018, 2019]\n",
    "\n",
    "api_data = []\n",
    "\n",
    "for year in years:\n",
    "    start_date = f\"{year}-01-01\"\n",
    "    end_date = f\"{year}-12-31\"\n",
    "\n",
    "    for city in cities:\n",
    "        url = \"https://weather.visualcrossing.com/VisualCrossingWebServices/rest/services/timeline\"\n",
    "        weather_url = f\"{url}/{city}/{start_date}/{end_date}?unitGroup=metric&include=days&key={api_key_visualcrossing}&contentType=json\" \n",
    "    \n",
    "        weather_response = requests.get(weather_url)\n",
    "        weather_json = weather_response.json()\n",
    "\n",
    "        for day in range(len(weather_json[\"days\"])):\n",
    "            location = weather_json[\"address\"]\n",
    "            record = weather_json[\"days\"][day][\"datetime\"]\n",
    "            temp = weather_json[\"days\"][day][\"tempmax\"]\n",
    "            rain = weather_json[\"days\"][day][\"precip\"]\n",
    "            api_data.append((year, location, record, temp, rain,))"
   ]
  },
  {
   "cell_type": "code",
   "execution_count": 39,
   "id": "bf883d12-1e93-4d4e-a900-9091287df21a",
   "metadata": {},
   "outputs": [],
   "source": [
    "# Build the dataframe and clean up the formatting\n",
    "api_data_df = pd.DataFrame(api_data)\n",
    "api_data_df = api_data_df.rename(columns={0:\"Year\", 1:\"City\", 2:\"Date\", 3:\"High Temp\", 4:\"Precipitation\"})\n",
    "api_data_df = api_data_df.sort_values(by=[\"Year\", \"City\"]).reset_index().drop(columns=\"index\")"
   ]
  },
  {
   "cell_type": "code",
   "execution_count": 40,
   "id": "0daa905d-626e-4e51-bfc6-18218608a583",
   "metadata": {},
   "outputs": [],
   "source": [
    "# Export the dataframe to a csv for later use\n",
    "api_data_df.to_csv(\"csv_weather_data.csv\")"
   ]
  },
  {
   "cell_type": "code",
   "execution_count": null,
   "id": "ddf59ce3-a972-4cf2-b94a-d99b393906bb",
   "metadata": {},
   "outputs": [],
   "source": []
  }
 ],
 "metadata": {
  "kernelspec": {
   "display_name": "Python 3 (ipykernel)",
   "language": "python",
   "name": "python3"
  },
  "language_info": {
   "codemirror_mode": {
    "name": "ipython",
    "version": 3
   },
   "file_extension": ".py",
   "mimetype": "text/x-python",
   "name": "python",
   "nbconvert_exporter": "python",
   "pygments_lexer": "ipython3",
   "version": "3.12.7"
  }
 },
 "nbformat": 4,
 "nbformat_minor": 5
}
